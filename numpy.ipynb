{
 "cells": [
  {
   "cell_type": "code",
   "execution_count": 1,
   "metadata": {},
   "outputs": [
    {
     "name": "stdout",
     "output_type": "stream",
     "text": [
      "[0 1 2 3]\n",
      "[0 1 2 3 4 5 6 7 8 9]\n"
     ]
    }
   ],
   "source": [
    "import numpy as np\n",
    "\n",
    "a = np.array([0,1,2,3])\n",
    "print(a)\n",
    "\n",
    "#Using numpy to create an array of 0 to 9 numbers\n",
    "print(np.arange(10))\n"
   ]
  },
  {
   "cell_type": "code",
   "execution_count": 2,
   "metadata": {},
   "outputs": [
    {
     "name": "stdout",
     "output_type": "stream",
     "text": [
      "379 µs ± 30.1 µs per loop (mean ± std. dev. of 7 runs, 1000 loops each)\n",
      "1.59 µs ± 81.6 ns per loop (mean ± std. dev. of 7 runs, 1000000 loops each)\n"
     ]
    }
   ],
   "source": [
    "#python lists:\n",
    "\n",
    "L = range(1000)\n",
    "%timeit [i**2 for i in L]\n",
    "\n",
    "#using numpy\n",
    "\n",
    "a = np.arange(1000)\n",
    "%timeit a**2"
   ]
  },
  {
   "cell_type": "code",
   "execution_count": 15,
   "metadata": {},
   "outputs": [
    {
     "name": "stdout",
     "output_type": "stream",
     "text": [
      "1\n",
      "(4,)\n",
      "4\n"
     ]
    }
   ],
   "source": [
    "import numpy as np\n",
    "a = np.array([0,1,2,3])\n",
    "\n",
    "#Print dimensions\n",
    "print(a.ndim)\n",
    "\n",
    "#shape\n",
    "print(a.shape)\n",
    "\n",
    "#Length\n",
    "print(len(a))\n"
   ]
  },
  {
   "cell_type": "code",
   "execution_count": 13,
   "metadata": {},
   "outputs": [
    {
     "name": "stdout",
     "output_type": "stream",
     "text": [
      "2\n",
      "(2, 3)\n",
      "2\n"
     ]
    }
   ],
   "source": [
    "#2D\n",
    "\n",
    "b = np.array([[0,1,2], [3,4,5]])   #1st list is row and 2nd is col. \n",
    "\n",
    "print(b.ndim)\n",
    "print(b.shape)  #Gives (rows,col)\n",
    "print(len(b))   #Gives no. of rows\n"
   ]
  },
  {
   "cell_type": "code",
   "execution_count": 21,
   "metadata": {},
   "outputs": [
    {
     "name": "stdout",
     "output_type": "stream",
     "text": [
      "3\n",
      "(2, 2, 2)\n"
     ]
    }
   ],
   "source": [
    "#3D array:\n",
    "\n",
    "c = np.array([[[0, 1], [2, 3]], [[4, 5], [6, 7]]])     #List within a list. 1st 2d then 3rd dimension.\n",
    "\n",
    "#1D array is Vector\n",
    "#2D array is Matrix\n",
    "#nD array is Tensor\n",
    "\n",
    "print(c.ndim)\n",
    "print(c.shape)"
   ]
  },
  {
   "cell_type": "markdown",
   "metadata": {},
   "source": [
    "Creating Numpy Arrays using Functions"
   ]
  },
  {
   "cell_type": "code",
   "execution_count": 30,
   "metadata": {},
   "outputs": [
    {
     "name": "stdout",
     "output_type": "stream",
     "text": [
      "[0 1 2 3 4 5 6 7 8 9]\n",
      "[1 3 5 7 9]\n",
      "[0.  0.2 0.4 0.6 0.8 1. ]\n",
      "[[1. 1. 1.]\n",
      " [1. 1. 1.]\n",
      " [1. 1. 1.]]\n",
      "[[0. 0. 0. 0.]\n",
      " [0. 0. 0. 0.]\n",
      " [0. 0. 0. 0.]\n",
      " [0. 0. 0. 0.]]\n",
      "[[1. 0. 0.]\n",
      " [0. 1. 0.]\n",
      " [0. 0. 1.]]\n",
      "[[1. 0.]\n",
      " [0. 1.]\n",
      " [0. 0.]]\n"
     ]
    }
   ],
   "source": [
    "#Using Arrange function\n",
    "\n",
    "#Arange is an array-valued version of built-in python range func.\n",
    "\n",
    "a = np.arange(10)      #0.... n-1\n",
    "print(a)\n",
    "\n",
    "# Another way is np.arange(start,end,step)\n",
    "\n",
    "b = np.arange(1, 10, 2)\n",
    "print(b)\n",
    "\n",
    "#Using linspace\n",
    "\n",
    "c = np.linspace(0, 1, 6)  #(start, end, no. of points) #Divides line from start to end into equal parts as step size.\n",
    "print(c)\n",
    "\n",
    "#Common arrays: (Uses float datatype)\n",
    "\n",
    "d = np.ones((3,3))      #Creates all elements with 1's\n",
    "print(d)\n",
    "\n",
    "d = np.zeros((4,4))\n",
    "print(d)\n",
    "\n",
    "e = np.eye(3)\n",
    "print(e)\n",
    "\n",
    "e = np.eye(3, 2)  #(rows,col)\n",
    "print(e)"
   ]
  },
  {
   "cell_type": "code",
   "execution_count": 33,
   "metadata": {},
   "outputs": [
    {
     "name": "stdout",
     "output_type": "stream",
     "text": [
      "[[1 0 0 0]\n",
      " [0 2 0 0]\n",
      " [0 0 3 0]\n",
      " [0 0 0 4]]\n",
      "[1 2 3 4]\n"
     ]
    }
   ],
   "source": [
    "#Creating diagonal elemnts:\n",
    "\n",
    "a = np.diag([1,2,3,4])\n",
    "print(a)\n",
    "\n",
    "#Extract diag elements:\n",
    "\n",
    "print(np.diag(a))\n"
   ]
  },
  {
   "cell_type": "code",
   "execution_count": 38,
   "metadata": {},
   "outputs": [
    {
     "name": "stdout",
     "output_type": "stream",
     "text": [
      "[0.72998635 0.57838012 0.70831121 0.89063891]\n",
      "[-0.01052541 -1.64537363  0.56347863]\n"
     ]
    }
   ],
   "source": [
    "#Creating random arrays:\n",
    "\n",
    "a = np.random.rand(4)   #Array of size 4\n",
    "#The method rand is from package random and creates uniform random no.\n",
    "print(a)\n",
    "\n",
    "#randn creates standard normal no.\n",
    "\n",
    "b = np.random.randn(3)\n",
    "print(b)"
   ]
  },
  {
   "cell_type": "markdown",
   "metadata": {},
   "source": [
    "Datatypes using Numpy:"
   ]
  },
  {
   "cell_type": "code",
   "execution_count": 43,
   "metadata": {},
   "outputs": [
    {
     "name": "stdout",
     "output_type": "stream",
     "text": [
      "int32\n",
      "[0 1 2 3 4 5 6 7 8 9]\n",
      "float64\n",
      "[0. 1. 2. 3. 4. 5. 6. 7. 8. 9.]\n"
     ]
    }
   ],
   "source": [
    "a = np.arange(10)\n",
    "print(a.dtype)\n",
    "print(a)\n",
    "\n",
    "#Specifying datatype:\n",
    "a = np.arange(10, dtype='float64')\n",
    "print(a.dtype)\n",
    "print(a)\n",
    "\n",
    "#Can also detect complex, boolean, S6 (String) datatypes also.\n"
   ]
  },
  {
   "cell_type": "code",
   "execution_count": 56,
   "metadata": {},
   "outputs": [
    {
     "name": "stdout",
     "output_type": "stream",
     "text": [
      "5\n",
      "3\n",
      "5\n",
      "[1 3 5 7]\n",
      "[ 0  1  2  3  4 10 10 10 10 10]\n",
      "[0 1 2 3 4 4 3 2 1 0]\n"
     ]
    }
   ],
   "source": [
    "#Accessing elements:\n",
    "\n",
    "a = np.arange(10)\n",
    "print(a[5])\n",
    "\n",
    "#For multidimensional array\n",
    "\n",
    "a = np.diag([1,2,3,4])\n",
    "print(a[2,2])      #Indexes of matrices also start from 0.\n",
    "\n",
    "#Assingning a value:\n",
    "a[2,1] = 5\n",
    "print(a[2,1])\n",
    "\n",
    "#Slicing:\n",
    "\n",
    "a = np.arange(10)\n",
    "print(a[1:8:2])   #(start,end,step)\n",
    "\n",
    "#Combine Assignment and Slicing:\n",
    "a[5:] = 10\n",
    "print(a)\n",
    "\n",
    "b = np.arange(5)\n",
    "a[5:] = b[::-1]   #From 5th element insert elements in reverse order.\n",
    "print(a)"
   ]
  },
  {
   "cell_type": "markdown",
   "metadata": {},
   "source": [
    "Copies and Views:\n",
    "\n",
    "Slicing creates a view on original array, which is just a way of accessing array data.\n",
    "Thus, the original array is not copied in memory. Use np.may_share_memory() to check if two arrays share the same memory block."
   ]
  },
  {
   "cell_type": "code",
   "execution_count": 67,
   "metadata": {},
   "outputs": [
    {
     "name": "stdout",
     "output_type": "stream",
     "text": [
      "[0 1 2 3 4 5 6 7 8 9]\n",
      "[0 2 4 6 8]\n",
      "True\n",
      "Address of a[0] =  1786806805992\n",
      "Address of a[0] =  1786806805992\n",
      "[0 2 4 6 8]\n",
      "False\n",
      "Address of a[0] =  1786806805992\n",
      "Address of c[0] =  1786806805992\n"
     ]
    }
   ],
   "source": [
    "a = np.arange(10)\n",
    "print(a)\n",
    "\n",
    "b = a[::2]\n",
    "print(b)\n",
    "\n",
    "print(np.shares_memory(a,b))\n",
    "#They share the same memory loc because of slicing creates a view which b's element accesses a's element location.\n",
    "print(\"Address of a[0] = \",id(a[0]))\n",
    "print(\"Address of a[0] = \",id(b[0]))\n",
    "\n",
    "#If you want to force a copy\n",
    "\n",
    "c = a[::2].copy()  #copy()\n",
    "print(c)\n",
    "print(np.shares_memory(a,c))\n",
    "print(\"Address of a[0] = \",id(a[8]))\n",
    "print(\"Address of c[0] = \",id(c[4]))\n",
    "\n",
    "#Still has same address. Doubt: WHY still same address when using copy() but shares_memory shows False? \n"
   ]
  },
  {
   "cell_type": "markdown",
   "metadata": {},
   "source": [
    "Fancy Indexing:"
   ]
  },
  {
   "cell_type": "code",
   "execution_count": 4,
   "metadata": {},
   "outputs": [
    {
     "name": "stdout",
     "output_type": "stream",
     "text": [
      "[18 19  0  4 16 18  4 16  9  5  0 15 16  3  1]\n",
      "[18  0  4 16 18  4 16  0 16]\n",
      "Address of a[0] =  1988052452840\n",
      "Address of extract[0] =  1988052452840\n",
      "[-1 19 -1 -1 -1 -1 -1 -1  9  5 -1 15 -1  3  1]\n",
      "[ 0 10 20 30 40 50 60 70 80 90]\n",
      "[   0   10   20   30 -200   50 -200   70   80   90]\n"
     ]
    }
   ],
   "source": [
    "a = np.random.randint(0, 20, 15)  #(start,end,no.of random numbers)\n",
    "print(a)\n",
    "\n",
    "mask = (a % 2 == 0)\n",
    "extract_from_a = a[mask]\n",
    "print(extract_from_a)\n",
    "\n",
    "#Numpy arrays can be indexed with slices but also with boolean or integer arrays (masks). This is called Fancy Indexing.\n",
    "#It creates copies not views.\n",
    "\n",
    "print(\"Address of a[0] = \",id(a[1]))\n",
    "print(\"Address of extract[0] = \",id(extract_from_a[0]))\n",
    "#Still same address dunno why\n",
    "\n",
    "#Indexing with mask can be used for assignment\n",
    "\n",
    "a[mask] = -1   #All even positions because of mask above specified will be -1.\n",
    "print(a)\n",
    "\n",
    "b = np.arange(0,100,10)\n",
    "print(b)\n",
    "\n",
    "b[[4,6]] = -200\n",
    "print(b)\n"
   ]
  },
  {
   "cell_type": "markdown",
   "metadata": {},
   "source": [
    "Numerical Operations on Numpy:"
   ]
  },
  {
   "cell_type": "code",
   "execution_count": 2,
   "metadata": {},
   "outputs": [
    {
     "name": "stdout",
     "output_type": "stream",
     "text": [
      "[2 3 4 5]\n",
      "[-1.  0.  1.  2.]\n",
      "[2. 4. 6. 8.]\n",
      "[[ 1  0  0  0]\n",
      " [ 0  4  0  0]\n",
      " [ 0  0  9  0]\n",
      " [ 0  0  0 16]]\n",
      "**************\n",
      "[[ 1  0  0  0]\n",
      " [ 0  4  0  0]\n",
      " [ 0  0  9  0]\n",
      " [ 0  0  0 16]]\n",
      "[False  True False False]\n"
     ]
    }
   ],
   "source": [
    "import numpy as np\n",
    "a = np.array([1,2,3,4])\n",
    "print(a+1)\n",
    "\n",
    "b = np.ones(4) + 1\n",
    "print(a-b)\n",
    "\n",
    "print(a*b)\n",
    "\n",
    "#Matrix Multiplication\n",
    "\n",
    "c = np.diag([1,2,3,4])\n",
    "print(c*c)\n",
    "print(\"**************\")\n",
    "print(c.dot(c))  #Same as normal multiplication\n",
    "\n",
    "c = np.array([2,5,3,6])\n",
    "print(a==b)  #Does element wise comparision\n",
    "\n",
    "\n"
   ]
  },
  {
   "cell_type": "code",
   "execution_count": 3,
   "metadata": {},
   "outputs": [
    {
     "name": "stdout",
     "output_type": "stream",
     "text": [
      "False\n",
      "True\n"
     ]
    }
   ],
   "source": [
    "#Array-wise comparisions\n",
    "a = np.array([1,2,3,4])\n",
    "b = np.array([6,3,1,2])\n",
    "c = np.array([1,2,3,4])\n",
    "\n",
    "print(np.array_equal(a,b))\n",
    "print(np.array_equal(a,c))"
   ]
  },
  {
   "cell_type": "markdown",
   "metadata": {},
   "source": [
    "Logical Operations:"
   ]
  },
  {
   "cell_type": "code",
   "execution_count": 19,
   "metadata": {},
   "outputs": [
    {
     "name": "stdout",
     "output_type": "stream",
     "text": [
      "[ True  True  True False]\n"
     ]
    }
   ],
   "source": [
    "a = np.array([1,1,0,0], dtype=bool)\n",
    "b = np.array([1,0,1,0], dtype=bool)\n",
    "\n",
    "print(np.logical_or(a,b))"
   ]
  },
  {
   "cell_type": "code",
   "execution_count": 21,
   "metadata": {},
   "outputs": [
    {
     "name": "stdout",
     "output_type": "stream",
     "text": [
      "[ 0.          0.84147098  0.90929743  0.14112001 -0.7568025 ]\n",
      "[      -inf 0.         0.69314718 1.09861229 1.38629436]\n",
      "[ 1.          2.71828183  7.3890561  20.08553692 54.59815003]\n"
     ]
    },
    {
     "name": "stderr",
     "output_type": "stream",
     "text": [
      "C:\\Users\\haxothermic\\Anaconda3\\lib\\site-packages\\ipykernel_launcher.py:4: RuntimeWarning: divide by zero encountered in log\n",
      "  after removing the cwd from sys.path.\n"
     ]
    }
   ],
   "source": [
    "a = np.arange(5)\n",
    "\n",
    "print(np.sin(a))\n",
    "print(np.log(a))\n",
    "print(np.exp(a))"
   ]
  },
  {
   "cell_type": "markdown",
   "metadata": {},
   "source": [
    "Shape Mismatch: "
   ]
  },
  {
   "cell_type": "code",
   "execution_count": 23,
   "metadata": {},
   "outputs": [
    {
     "ename": "ValueError",
     "evalue": "operands could not be broadcast together with shapes (4,) (3,) ",
     "output_type": "error",
     "traceback": [
      "\u001b[1;31m---------------------------------------------------------------------------\u001b[0m",
      "\u001b[1;31mValueError\u001b[0m                                Traceback (most recent call last)",
      "\u001b[1;32m<ipython-input-23-1e4327909c68>\u001b[0m in \u001b[0;36m<module>\u001b[1;34m\u001b[0m\n\u001b[0;32m      2\u001b[0m \u001b[1;33m\u001b[0m\u001b[0m\n\u001b[0;32m      3\u001b[0m \u001b[0ma\u001b[0m \u001b[1;33m=\u001b[0m \u001b[0mnp\u001b[0m\u001b[1;33m.\u001b[0m\u001b[0marange\u001b[0m\u001b[1;33m(\u001b[0m\u001b[1;36m4\u001b[0m\u001b[1;33m)\u001b[0m\u001b[1;33m\u001b[0m\u001b[1;33m\u001b[0m\u001b[0m\n\u001b[1;32m----> 4\u001b[1;33m \u001b[0ma\u001b[0m \u001b[1;33m+\u001b[0m \u001b[0mnp\u001b[0m\u001b[1;33m.\u001b[0m\u001b[0marange\u001b[0m\u001b[1;33m(\u001b[0m\u001b[1;36m3\u001b[0m\u001b[1;33m)\u001b[0m\u001b[1;33m\u001b[0m\u001b[1;33m\u001b[0m\u001b[0m\n\u001b[0m",
      "\u001b[1;31mValueError\u001b[0m: operands could not be broadcast together with shapes (4,) (3,) "
     ]
    }
   ],
   "source": [
    "#Can't add because both are of different dimensions or sizes\n",
    "\n",
    "a = np.arange(4)\n",
    "a + np.arange(3)"
   ]
  },
  {
   "cell_type": "markdown",
   "metadata": {},
   "source": [
    "Basic Reductions:"
   ]
  },
  {
   "cell_type": "code",
   "execution_count": 30,
   "metadata": {},
   "outputs": [
    {
     "name": "stdout",
     "output_type": "stream",
     "text": [
      "10\n",
      "[[1 1]\n",
      " [2 2]]\n",
      "[3 3]\n",
      "[2 4]\n",
      "1\n",
      "2\n",
      "0\n",
      "2\n"
     ]
    }
   ],
   "source": [
    "x = np.array([1,2,3,4])\n",
    "print(np.sum(x))\n",
    "\n",
    "#sum by rows and cols\n",
    "\n",
    "x = np.array([[1,1], [2,2]])\n",
    "print(x)\n",
    "\n",
    "print(x.sum(axis=0))\n",
    "print(x.sum(axis=1))\n",
    "\n",
    "\n",
    "print(x.min())\n",
    "print(x.max())\n",
    "\n",
    "#index of min element\n",
    "print(x.argmin())\n",
    "\n",
    "#index of max element\n",
    "print(x.argmax())"
   ]
  },
  {
   "cell_type": "markdown",
   "metadata": {},
   "source": [
    "Statistics:"
   ]
  },
  {
   "cell_type": "code",
   "execution_count": 33,
   "metadata": {},
   "outputs": [
    {
     "name": "stdout",
     "output_type": "stream",
     "text": [
      "1.75\n",
      "1.5\n",
      "[2. 5.]\n",
      "0.82915619758885\n"
     ]
    }
   ],
   "source": [
    "x = np.array([1,2,3,1])\n",
    "y = np.array([[1,2,3], [5,6,1]])\n",
    "print(x.mean())\n",
    "print(np.median(x))\n",
    "\n",
    "print(np.median(y, axis=-1))  #Even -1 means rows\n",
    "\n",
    "print(x.std())"
   ]
  }
 ],
 "metadata": {
  "kernelspec": {
   "display_name": "Python 3",
   "language": "python",
   "name": "python3"
  },
  "language_info": {
   "codemirror_mode": {
    "name": "ipython",
    "version": 3
   },
   "file_extension": ".py",
   "mimetype": "text/x-python",
   "name": "python",
   "nbconvert_exporter": "python",
   "pygments_lexer": "ipython3",
   "version": "3.7.3"
  }
 },
 "nbformat": 4,
 "nbformat_minor": 2
}
