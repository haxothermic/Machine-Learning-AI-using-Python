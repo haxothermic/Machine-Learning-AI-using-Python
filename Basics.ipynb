{
 "cells": [
  {
   "cell_type": "markdown",
   "metadata": {},
   "source": [
    "1) Printing Text on screen:"
   ]
  },
  {
   "cell_type": "code",
   "execution_count": 1,
   "metadata": {},
   "outputs": [
    {
     "name": "stdout",
     "output_type": "stream",
     "text": [
      "Hello World!\n"
     ]
    }
   ],
   "source": [
    "print(\"Hello World!\")"
   ]
  },
  {
   "cell_type": "markdown",
   "metadata": {},
   "source": [
    "2) Comments:"
   ]
  },
  {
   "cell_type": "code",
   "execution_count": 2,
   "metadata": {},
   "outputs": [
    {
     "data": {
      "text/plain": [
       "'This is an example of \\nmultiline comment '"
      ]
     },
     "execution_count": 2,
     "metadata": {},
     "output_type": "execute_result"
    }
   ],
   "source": [
    "#This is a single line comment\n",
    "\"\"\"This is an example of \n",
    "multiline comment \"\"\""
   ]
  },
  {
   "cell_type": "markdown",
   "metadata": {},
   "source": [
    "Python Statements:"
   ]
  },
  {
   "cell_type": "code",
   "execution_count": 4,
   "metadata": {},
   "outputs": [
    {
     "name": "stdout",
     "output_type": "stream",
     "text": [
      "1\n",
      "2 2 2\n",
      "20\n"
     ]
    }
   ],
   "source": [
    "a = 1\n",
    "print(a)\n",
    "a = b = c = 2\n",
    "print(a,b,c)\n",
    "\n",
    "#Multiline Statements:\n",
    "\n",
    "a = b + c + \\\n",
    "    5 + 1 + \\\n",
    "    9 + 1\n",
    "print(a)\n",
    "\n",
    "\n",
    "#Multiple declarations in single line: a=10 ; b=10 ; c=30"
   ]
  },
  {
   "cell_type": "markdown",
   "metadata": {},
   "source": [
    "Variables & Data Types: "
   ]
  },
  {
   "cell_type": "code",
   "execution_count": 13,
   "metadata": {},
   "outputs": [
    {
     "name": "stdout",
     "output_type": "stream",
     "text": [
      "This is addr of x:  2519224056608\n",
      "This is addr of y:  2519224056608\n",
      "10  is of type <class 'int'>\n",
      "T s\n",
      "is a \n"
     ]
    }
   ],
   "source": [
    "#Integer:\n",
    "a = 10\n",
    "#Float:\n",
    "b = 10.1\n",
    "#String:\n",
    "c = \"ML\"\n",
    "\n",
    "#Multiple Assignments:\n",
    "\n",
    "d, e, f = 20, 20.2, \"AI\"\n",
    "\n",
    "x = y = \"IoT\"\n",
    "\n",
    "#Address of a Variable:\n",
    "\n",
    "print(\"This is addr of x: \", id(x))\n",
    "print(\"This is addr of y: \", id(y))   #Note that x and y will point to the same address.\n",
    "\n",
    "#Type of a Variable:\n",
    "\n",
    "print(a, \" is of type\", type(a))\n",
    "\n",
    "#Strings:\n",
    "\n",
    "s = \"\"\"This is a multiline string denoted with double quotes\"\"\"\n",
    "strg = '''String can be denoted using single quotes also'''\n",
    "\n",
    "#Printing characters of a string using index:\n",
    "print(s[0],s[-1])\n",
    "\n",
    "#Slicing:\n",
    "print(s[5:10])"
   ]
  },
  {
   "cell_type": "markdown",
   "metadata": {},
   "source": [
    "Lists:\n",
    "\n",
    "Lists are ordered seqeunce of items. It is flexible and can contain items of different data types."
   ]
  },
  {
   "cell_type": "code",
   "execution_count": 50,
   "metadata": {},
   "outputs": [
    {
     "name": "stdout",
     "output_type": "stream",
     "text": [
      "23.45\n",
      "List before modification:  [10, 23.45, 'Sid']\n",
      "List after modification:  [10, 100.1, 'Sid']\n",
      "[10, 100.1, 'Sid', [14, 124, 'ML']]\n",
      "[14, 124, 'ML', 'Yo', 652, 3.32]\n",
      "[10, 'Sid', [14, 124, 'ML', 'Yo', 652, 3.32]]\n",
      "[14, 124, 'ML', 'Yo', 652, 3.32]\n",
      "[14, 124, 'ML', 652, 3.32]\n",
      "[3, 4, 5, 2, 51251, 12341452352, 0]\n",
      "[0, 2, 3, 4, 5, 51251, 12341452352]\n",
      "[12341452352, 51251, 5, 4, 3, 2, 0]\n",
      "[1, 2, 3, 4, 5, 6]\n",
      "['one', 'two', 'three', 'four', 'five']\n",
      "['one', 'three', 'five']\n",
      "[1, 2, 3, 4, 5, 6, 1, 2, 3, 4, 5, 6]\n",
      "1\n"
     ]
    }
   ],
   "source": [
    "a = [10, 23.45, \"Sid\"]\n",
    "print(a[1])\n",
    "\n",
    "#Lists are mutable.\n",
    "\n",
    "print(\"List before modification: \",a)\n",
    "a[1] = 100.1\n",
    "print(\"List after modification: \",a)\n",
    "\n",
    "#Append: Adds list as sublist\n",
    "\n",
    "b= [14, 124, \"ML\"]\n",
    "\n",
    "a.append(b)\n",
    "print(a)\n",
    "\n",
    "#Extend: Adds elements as they are.\n",
    "\n",
    "c = [\"Yo\", 652, 3.32]\n",
    "\n",
    "b.extend(c)\n",
    "print(b)\n",
    "\n",
    "del a[1]\n",
    "print(a)\n",
    "\n",
    "a = a.pop(-1)\n",
    "print(a)\n",
    "\n",
    "a.remove('Yo')\n",
    "print(a)\n",
    "\n",
    "#Sorting List:\n",
    "\n",
    "num = [3, 4, 5, 2,51251, 12341452352, 0]\n",
    "print(num)\n",
    "print(sorted(num)) #Ascending\n",
    "print(sorted(num, reverse=True)) #Descending\n",
    "\n",
    "#List having Multiple References:\n",
    "\n",
    "lst = [1,2,3,4,5]\n",
    "abc = lst\n",
    "abc.append(6)      #Since lst and abc point to same location, modifications to abc will reflect on lst also.\n",
    "print(lst)\n",
    "\n",
    "#String Split to create a List\n",
    "s = \"one,two,three,four,five\"\n",
    "slst = s.split(',')\n",
    "print(slst)\n",
    "\n",
    "#Printing alternate numbers in list:\n",
    "#Format = number[start:end:step_size]\n",
    "print(slst[::2])  #Print all with step size 2 \n",
    "\n",
    "# List Extend using \"+\"\n",
    "\n",
    "cde = lst + abc\n",
    "print(cde)\n",
    "\n",
    "#Count frequency of element in list:\n",
    "\n",
    "print(num.count(3))\n",
    "\n",
    "\n",
    "#List Looping\n",
    "\n",
    "for ele in lst\n",
    "    print(ele)\n",
    "    \n"
   ]
  },
  {
   "cell_type": "markdown",
   "metadata": {},
   "source": [
    "Tuples:\n",
    "\n",
    "Tuples are ordered sequence of items but are immutable. They can't be modified."
   ]
  },
  {
   "cell_type": "code",
   "execution_count": 7,
   "metadata": {},
   "outputs": [
    {
     "name": "stdout",
     "output_type": "stream",
     "text": [
      "ML\n",
      "(1, 'sid', ('id', 'name', \"I'm 3rd element of 1st subtuple in nt\"))\n",
      "<class 'str'>\n",
      "<class 'tuple'>\n",
      "sid\n"
     ]
    }
   ],
   "source": [
    "t = (1, 100.5, \"ML\")\n",
    "print(t[2])\n",
    "\n",
    "#Nested tuple\n",
    "\n",
    "nt = (1, 'sid', ('id','name',\"I'm 3rd element of 1st subtuple in nt\"))\n",
    "print(nt)\n",
    "\n",
    "#Parenthesis is not enough\n",
    "\n",
    "tt = ('sid')\n",
    "print(type(tt))\n",
    "#End with a comma and it will be a string.\n",
    "tt = ('sid',)\n",
    "print(type(tt))\n",
    "\n",
    "#Accessing elements of a nested tuple:\n",
    "\n",
    "print(nt[1][0:4])"
   ]
  },
  {
   "cell_type": "markdown",
   "metadata": {},
   "source": [
    "Dictionary:\n",
    "\n",
    "Unordered collection of key-value pairs. Defined with {key:value}"
   ]
  },
  {
   "cell_type": "code",
   "execution_count": 67,
   "metadata": {},
   "outputs": [
    {
     "name": "stdout",
     "output_type": "stream",
     "text": [
      "{1: 'abc', 2: 'xyz'}\n",
      "xyz\n",
      "apple\n",
      "2\n",
      "{1: 'pop', 2: 'push'}\n",
      "{1: 'hey', 2: 'xyz'}\n",
      "{1: 'hey', 2: 'xyz', 3: \"What's up?\"}\n",
      "xyz\n",
      "{1: 'hey', 3: \"What's up?\"}\n"
     ]
    }
   ],
   "source": [
    "#Dict with integer keys:\n",
    "\n",
    "dict1 = {1: 'abc', 2: 'xyz'}\n",
    "print(dict1)\n",
    "print(dict1[2])\n",
    "\n",
    "#Dict with mixed keys:\n",
    "d = {'a': \"apple\", 'b': \"bat\", 'c' : 2}\n",
    "print(d['a'])\n",
    "print(d['c'])\n",
    "\n",
    "#List of Tuples Dict\n",
    "\n",
    "dict2 = dict([(1,'pop'),(2,'push')])\n",
    "print(dict2)\n",
    "\n",
    "#Modifying values:\n",
    "\n",
    "dict1[1] = 'hey'\n",
    "print(dict1)\n",
    "\n",
    "#Adding a new key:\n",
    "\n",
    "dict1[3] = \"What's up?\"\n",
    "print(dict1)\n",
    "\n",
    "#Deleting or Removing elements:\n",
    "\n",
    "print(dict1.pop(2))\n",
    "print(dict1)\n",
    "\n"
   ]
  },
  {
   "cell_type": "markdown",
   "metadata": {},
   "source": [
    "Conversion between Datatypes:"
   ]
  },
  {
   "cell_type": "code",
   "execution_count": 29,
   "metadata": {},
   "outputs": [
    {
     "name": "stdout",
     "output_type": "stream",
     "text": [
      "Hey Sid! You wrote 100 lines of code\n",
      "[1, 2, 3]\n",
      "<class 'list'>\n",
      "<class 'set'>\n",
      "{1, 2, 3}\n",
      "['H', 'e', 'l', 'l', 'o']\n"
     ]
    }
   ],
   "source": [
    "float(5)\n",
    "int(100.22)\n",
    "str(123)\n",
    "\n",
    "user = \"Sid\"\n",
    "lines = 100\n",
    "\n",
    "print(\"Hey \" + user + \"! You wrote \" + str(lines) + \" lines of code\")\n",
    "\n",
    "a = [1, 2, 3]    # a is a list.\n",
    "\n",
    "print(a)\n",
    "print(type(a))\n",
    "\n",
    "s = set(a)    #Using set method to convert list to a set.\n",
    "\n",
    "print(type(s))\n",
    "print(s)\n",
    "\n",
    "print(list(\"Hello\"))    #Using list method to convert string to list.\n",
    "\n"
   ]
  },
  {
   "cell_type": "markdown",
   "metadata": {},
   "source": [
    "Output Formatting:"
   ]
  },
  {
   "cell_type": "code",
   "execution_count": 32,
   "metadata": {},
   "outputs": [
    {
     "name": "stdout",
     "output_type": "stream",
     "text": [
      "The value of a is 10 and b is 20\n",
      "The value of b is 20 and a is 10\n",
      "Hello sid, Good Morning\n",
      "Hello sid, Good Morning\n"
     ]
    }
   ],
   "source": [
    "a = 10; b = 20\n",
    "\n",
    "print(\"The value of a is {} and b is {}\".format(a,b))   # {} is like %d in c-language.\n",
    "\n",
    "print(\"The value of b is {1} and a is {0}\".format(a,b))  # using index for positioning\n",
    "\n",
    "print(\"Hello {name}, {greeting}\".format(name=\"sid\", greeting=\"Good Morning\")) #setting var and then printing\n",
    "\n",
    "print(\"Hello {0}, {1}\".format(\"sid\", \"Good Morning\"))      #Using index order without defining variables.\n",
    "\n"
   ]
  },
  {
   "cell_type": "markdown",
   "metadata": {},
   "source": [
    "Input:"
   ]
  },
  {
   "cell_type": "code",
   "execution_count": 2,
   "metadata": {},
   "outputs": [
    {
     "name": "stdout",
     "output_type": "stream",
     "text": [
      "Enter a number2\n",
      "2\n"
     ]
    }
   ],
   "source": [
    "num = int(input(\"Enter a number\"))\n",
    "print(num)"
   ]
  },
  {
   "cell_type": "markdown",
   "metadata": {},
   "source": [
    "Inbuilt functions:"
   ]
  },
  {
   "cell_type": "code",
   "execution_count": 17,
   "metadata": {},
   "outputs": [
    {
     "name": "stdout",
     "output_type": "stream",
     "text": [
      "124.25\n",
      "True\n",
      "False\n",
      "(4, 1)\n",
      "index 0 has value 10\n",
      "index 1 has value 20\n",
      "index 2 has value 30\n",
      "index 3 has value 40\n",
      "index 10 has value 10\n",
      "index 11 has value 20\n",
      "index 12 has value 30\n",
      "index 13 has value 40\n",
      "[-10, -9, -8, -7, -6, -5, -4, -3, -2, -1, 0, 1, 2, 3, 4, 5, 6, 7, 8, 9]\n",
      "[1, 2, 3, 4, 5, 6, 7, 8, 9]\n",
      "[1, 4, 9, 16]\n",
      "24\n"
     ]
    }
   ],
   "source": [
    "#abs()\n",
    "\n",
    "print(abs(-124.25))\n",
    "\n",
    "#all()\n",
    "lst = [1,2,3,4]\n",
    "print(all(lst))   #Prints True since no element is 0\n",
    "\n",
    "lst1 = [0,2,3,4]\n",
    "print(all(lst1))  #Prints False since it contains 0.\n",
    "\n",
    "#divmod\n",
    "print(divmod(9,2))  #Returns quotient and remainder\n",
    "\n",
    "#enumerate    syntax: enumerate(iterable,start=0)\n",
    "\n",
    "numbers = [10,20,30,40]\n",
    "\n",
    "for index, num in enumerate(numbers):\n",
    "    print(\"index {} has value {}\".format(index, num))\n",
    "\n",
    "for index, num in enumerate(numbers,10):\n",
    "    print(\"index {} has value {}\".format(index, num))\n",
    "    \n",
    "    \n",
    "#filter()        Constructs an iterator from elements for which a function returns true. syntax: filter(func, iterable)\n",
    "\n",
    "\"\"\" This is how we usually define a func.\"\"\"\n",
    "def find_positive_number(num):\n",
    "    if num > 0:\n",
    "        return num\n",
    "\n",
    "\"\"\"Instead, we use filter for a one liner\"\"\"\n",
    "\n",
    "number_list = range(-10,10)\n",
    "print(list(number_list))\n",
    "\n",
    "positive_num_lst = list(filter(find_positive_number, number_list))\n",
    "\n",
    "print(positive_num_lst)\n",
    "\n",
    "\n",
    "\n",
    "#map()      Applies to a function to all items in an input list.   syntax: map(function,list_of_inputs)\n",
    "\n",
    "num1 = [1,2,3,4]\n",
    "squared = []\n",
    "for i in num1:\n",
    "    squared.append(i**2)\n",
    "print(squared)\n",
    "\n",
    "\n",
    "#Reduce:   Applies rolling computation on a list. [1,2,3,4] Multiply would multiply 1*2=2, 2*3=6, 6*4=24.\n",
    "\n",
    "from functools import reduce\n",
    "\n",
    "def multiply(x,y):\n",
    "    return x*y;\n",
    "\n",
    "lst2=[1,2,3,4]\n",
    "product = reduce(multiply,lst2)\n",
    "print(product)"
   ]
  },
  {
   "cell_type": "markdown",
   "metadata": {},
   "source": [
    "Lambda or Anonymous Functions:"
   ]
  },
  {
   "cell_type": "code",
   "execution_count": 23,
   "metadata": {},
   "outputs": [
    {
     "name": "stdout",
     "output_type": "stream",
     "text": [
      "10\n",
      "[2, 4, 6]\n",
      "[1, 4, 9, 16, 25, 36]\n",
      "120\n"
     ]
    }
   ],
   "source": [
    "double = lambda x: x*2\n",
    "\n",
    "print(double(5))\n",
    "\n",
    "\n",
    "#Using lambda with filter()\n",
    "\n",
    "lst = [1,2,3,4,5,6]\n",
    "even_lst = list(filter(lambda x: (x%2==0),lst))\n",
    "print(even_lst)\n",
    "\n",
    "#Example use with map()\n",
    "\n",
    "lst1 = [1,2,3,4,5]\n",
    "new_lst = list(map(lambda x: x**2, lst))\n",
    "print(new_lst)\n",
    "\n",
    "#Example with reduce():\n",
    "\n",
    "#from functools import reduce()\n",
    "\n",
    "lst2 = [1,2,3,4,5]\n",
    "prod_lst = reduce(lambda x, y: x*y, lst2)\n",
    "print(prod_lst)"
   ]
  },
  {
   "cell_type": "markdown",
   "metadata": {},
   "source": [
    "File Handling:"
   ]
  },
  {
   "cell_type": "code",
   "execution_count": 24,
   "metadata": {},
   "outputs": [
    {
     "ename": "FileNotFoundError",
     "evalue": "[Errno 2] No such file or directory: '//location/directory'",
     "output_type": "error",
     "traceback": [
      "\u001b[1;31m---------------------------------------------------------------------------\u001b[0m",
      "\u001b[1;31mFileNotFoundError\u001b[0m                         Traceback (most recent call last)",
      "\u001b[1;32m<ipython-input-24-4fe23b945ea1>\u001b[0m in \u001b[0;36m<module>\u001b[1;34m\u001b[0m\n\u001b[0;32m      3\u001b[0m \u001b[1;31m#Opening:\u001b[0m\u001b[1;33m\u001b[0m\u001b[1;33m\u001b[0m\u001b[1;33m\u001b[0m\u001b[0m\n\u001b[0;32m      4\u001b[0m \u001b[1;33m\u001b[0m\u001b[0m\n\u001b[1;32m----> 5\u001b[1;33m \u001b[0mf\u001b[0m \u001b[1;33m=\u001b[0m \u001b[0mopen\u001b[0m\u001b[1;33m(\u001b[0m\u001b[0mfilename\u001b[0m\u001b[1;33m)\u001b[0m\u001b[1;33m\u001b[0m\u001b[1;33m\u001b[0m\u001b[0m\n\u001b[0m\u001b[0;32m      6\u001b[0m \u001b[0mf1\u001b[0m \u001b[1;33m=\u001b[0m \u001b[0mopen\u001b[0m\u001b[1;33m(\u001b[0m\u001b[0mfilename\u001b[0m\u001b[1;33m,\u001b[0m\u001b[1;34m'w'\u001b[0m\u001b[1;33m)\u001b[0m \u001b[1;31m#Can be read,write,append,exclusive creation 'x', text mode 't', binary mode 'b', Reading & writing '+'\u001b[0m\u001b[1;33m\u001b[0m\u001b[1;33m\u001b[0m\u001b[0m\n\u001b[0;32m      7\u001b[0m \u001b[1;33m\u001b[0m\u001b[0m\n",
      "\u001b[1;31mFileNotFoundError\u001b[0m: [Errno 2] No such file or directory: '//location/directory'"
     ]
    }
   ],
   "source": [
    "filename = \"//location/directory\"\n",
    "\n",
    "#Opening:\n",
    "\n",
    "f = open(filename)\n",
    "f1 = open(filename,'w') #Can be read,write,append,exclusive creation 'x', text mode 't', binary mode 'b', Reading & writing '+'\n",
    "\n",
    "#Closing:\n",
    "\n",
    "f.close()\n",
    "f1.close()\n",
    "\n",
    "\"\"\"\n",
    "Using file try blocks to close files properly:\n",
    "\n",
    "try:\n",
    "    f = open(\"text.txt\")\n",
    "finally:\n",
    "    f.close()\n",
    "    \n",
    "\"\"\"\n",
    "\n",
    "#Writing a file:\n",
    "\n",
    "f.write(\"This is a test file\\n\")\n",
    "f.write(\"Contains two lines\\n\")\n",
    "f.close()\n",
    "\n",
    "#Reading a file:\n",
    "\n",
    "f.open(\"test.txt\",\"r\")\n",
    "f.read()\n",
    "\n",
    "f.read(4)   #Reads first 4 characters from the current cursor location.\n",
    "\n",
    "f.read(10)  #Reads from 4th cursor location till next 10.\n",
    "\n",
    "f.tell()    #Tells current cursor location.\n",
    "\n",
    "print(f.read) #Print entire file\n",
    "\n",
    "#reading line by line:\n",
    "\n",
    "f.seek(0)    #Reads a file till new line\n",
    "for line in f:\n",
    "    print(line)\n",
    "\n",
    "f.readline() #Reads first line. Next time will read the second line and so fourth.\n",
    "\n",
    "f.readlines() #Reads all lines till EOF is reached.\n",
    "\n",
    "#Renaming and Deleting files:\n",
    "\n",
    "import os\n",
    "\n",
    "os.rename(\"test.txt\", \"sample.txt\")\n",
    "os.remove(\"sample.txt\")\n",
    "\n",
    "#Current directory:\n",
    "\n",
    "os.getcwd()\n",
    "\n",
    "#Change directory:\n",
    "\n",
    "os.chdir(\"/Users/haxo\")\n",
    "\n",
    "#Listing files:\n",
    "\n",
    "os.listdir(os.getcwd)\n",
    "\n",
    "#Make new directory:\n",
    "\n",
    "os.mkdir(\"test\")\n",
    "\n",
    "#Delete directory\n",
    "\n",
    "os.rmdir(\"test\")\n",
    "\n",
    "#Delete non-empty dir:\n",
    "\n",
    "import shutil\n",
    "\n",
    "shutil.rmtree('tree')\n",
    "\n",
    "\n",
    "\n"
   ]
  },
  {
   "cell_type": "markdown",
   "metadata": {},
   "source": [
    "Exception Handling:"
   ]
  },
  {
   "cell_type": "code",
   "execution_count": 26,
   "metadata": {},
   "outputs": [
    {
     "name": "stdout",
     "output_type": "stream",
     "text": [
      "The entry is b\n",
      "Oops! <class 'ValueError'> occured.\n",
      "Next entry.\n",
      "**************************************\n",
      "The entry is 0\n",
      "Oops! <class 'ZeroDivisionError'> occured.\n",
      "Next entry.\n",
      "**************************************\n",
      "The entry is 2\n",
      "The reciprocal of 2 is 0.5\n"
     ]
    }
   ],
   "source": [
    "import sys\n",
    "\n",
    "lst = ['b', 0, 2]\n",
    "\n",
    "for entry in lst:\n",
    "    try:\n",
    "        print(\"The entry is\",entry)\n",
    "        r = 1 / int(entry)\n",
    "    except:\n",
    "        print(\"Oops!\",sys.exc_info()[0],\"occured.\")\n",
    "        print(\"Next entry.\")\n",
    "        print(\"**************************************\")\n",
    "print(\"The reciprocal of\", entry, \"is\", r)\n",
    "\n",
    "#Multiple except blocks with specific instructions:\n",
    "\n",
    "for entry in lst:\n",
    "    try:\n",
    "        print(\"The entry is\",entry)\n",
    "        r = 1 / int(entry)\n",
    "    except(ValueError):\n",
    "        print(\"This is value Error\")\n",
    "    except(ZeroDivisionError):\n",
    "        print(\"This is a Zero Error\")\n",
    "        print(\"**************************************\")\n",
    "print(\"The reciprocal of\", entry, \"is\", r)\n",
    "\n",
    "#Raising Errors:\n",
    "\n",
    "try:\n",
    "    num = int(input(\"Enter a positive number\"))\n",
    "    if num <= 0:\n",
    "        raise ValueError(\"Error: Entered a negative number\")\n",
    "except ValueError as e:\n",
    "    print(e)\n",
    "\n",
    "\n",
    "    \n",
    "#try and finally:    Finally runs no matter what. Whether an error is raised or not.\n",
    "\n",
    "try:\n",
    "    f = open('sample.txt')\n",
    "    \n",
    "finally:\n",
    "    f.close()\n"
   ]
  },
  {
   "cell_type": "code",
   "execution_count": null,
   "metadata": {},
   "outputs": [],
   "source": []
  }
 ],
 "metadata": {
  "kernelspec": {
   "display_name": "Python 3",
   "language": "python",
   "name": "python3"
  },
  "language_info": {
   "codemirror_mode": {
    "name": "ipython",
    "version": 3
   },
   "file_extension": ".py",
   "mimetype": "text/x-python",
   "name": "python",
   "nbconvert_exporter": "python",
   "pygments_lexer": "ipython3",
   "version": "3.7.3"
  }
 },
 "nbformat": 4,
 "nbformat_minor": 2
}
